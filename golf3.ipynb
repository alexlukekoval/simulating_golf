{
 "cells": [
  {
   "cell_type": "code",
   "execution_count": 1,
   "metadata": {},
   "outputs": [],
   "source": [
    "\n",
    "# Monte Carlo Simulation of a Golf Tournament\n",
    "# 1 Introduction\n",
    "# In this exercise, we would like you to write code to perform a Monte Carlo simulation of a golf tournament. Your code\n",
    "# should take a list of golfers, along with some parameters describing their golfing ability, and determine the probability\n",
    "# of winning, and of finishing in the top five, for each of them. The scoring rules for a golf tournament, and the process\n",
    "# of Monte Carlo simulation, are explained below.\n",
    "# 2 Structure of a Golf Tournament\n",
    "# Golf is a game in which a number of players attempt to hit a ball into a hole, using a club. A round of golf consists of\n",
    "# 18 holes, and a golf tournament consists of 4 rounds. Each player scores a point every time they hit the ball with their\n",
    "# club, and their score for the tournament is the sum of their scores for all holes in all rounds. The expected number of\n",
    "# points per round, in general, is about 72, so a golfer’s score for a whole tournament will be about 288.\n",
    "# The player with the lowest score wins the tournament.\n",
    "# In your simulation, you should assume that a golfer’s score for a round is given by a normal (Gaussian) distribution.\n",
    "# The mean and standard deviation of this distribution form our “rating” for that golfer. At the end of this document is\n",
    "# a link to the names and ratings of twenty top golfers; this will be the input to your simulation.\n",
    "# 2.1 Determining the Winner and Top 5\n",
    "# Imagine that 8 golfers compete in a tournament and get the scores shown in table 1. In this tournament, every player\n",
    "# got a unique score, so there are no ties. Rory McIlroy got the lowest score, and so wins outright. If we had placed a\n",
    "# bet on McIlroy to win the tournament, we would get the entire payout, so we say his win fraction is 1, while everyone\n",
    "# else’s is 0.\n",
    "# Similarly, McIlroy, Spieth, Garcia, Woods, and Perry are the only players in the top five. If we had placed a bet on any\n",
    "# of them to finish in the top 5, then we would again get the whole payout. Each of them has a “top 5 fraction” of 1, while\n",
    "# everyone below them in the table has a “top 5 fraction” of 0.\n",
    "# The situation is a little more complicated if golfers are tied. Consider the leaderboard in table 2. McIlroy and Spieth\n",
    "# are joint winners, each scoring 288. If we had bet on either of them to win, our payout would be reduced by one half.\n",
    "# Each of them gets a “win fraction” of 1/2, because there is one spot shared between two players.\n",
    "# We consider an N-way tie in an outright winner market to give 1/N wins to each player involved.\n",
    "# Golfer Tournament Score Win Fraction Top 5 Fraction\n",
    "# Rory McIlroy 288 1 1\n",
    "# Jordan Spieth 289 0 1\n",
    "# Sergio Garcia 290 0 1\n",
    "# Tiger Woods 291 0 1\n",
    "# Kenny Perry 292 0 1\n",
    "# John Cook 293 0 0\n",
    "# Jaco Van Zyl 294 0 0\n",
    "# Justin Rose 295 0 0\n",
    "# Table 1: Golf tournament with no ties\n",
    "# 1\n",
    "# Golfer Tournament Score Win Fraction Top 5 Fraction\n",
    "# Rory McIlroy 288 1/2 1\n",
    "# Jordan Spieth 288 1/2 1\n",
    "# Sergio Garcia 290 0 1\n",
    "# Tiger Woods 291 0 2/3\n",
    "# Kenny Perry 291 0 2/3\n",
    "# John Cook 291 0 2/3\n",
    "# Jaco Van Zyl 294 0 0\n",
    "# Justin Rose 295 0 0\n",
    "# Table 2: Golf tournament with tied scores\n",
    "# When it comes to considering the top 5 finish, we can see that McIlroy, Spieth, and Garcia should all definitely be in\n",
    "# the top 5. The next 2 spots in the top five, however (positions four and five), must be shared between the three players\n",
    "# who scored 291 - Woods, Perry, and Cook. Each of them gets a “top 5 fraction” of two thirds.\n",
    "# If N players are tied for P places in the top 5, each player is considered to be in the top 5 with fraction P/N.\n",
    "# 3 Monte Carlo Simulations\n",
    "# A Monte Carlo simulation is a method to calculate properties of a probability distribution by randomly sampling\n",
    "# values from it. In this exercise, we have a probability distribution for each golfer that describes their score in a single\n",
    "# round. The algorithm for a single iteration of the Monte Carlo process is:\n",
    "# 1. Generate a random score for a whole tournament for each golfer. The scores should be drawn according to the\n",
    "# score probability distribution for each golfer.\n",
    "# 2. Determine the win fraction and top 5 fraction for each player\n",
    "# The final output of your simulation should be the win fraction and top 5 fraction for each player, averaged over many\n",
    "# such iterations. It is up to you to decide how many iterations is sufficient.\n",
    "# 4 Details of the exercise\n",
    "# You may use any language of your choice for this exercise, as well as any libraries that you wish – you should also\n",
    "# feel free to look things up online while completing it.\n",
    "# In Python, to generate a random number that falls within a normal distribution, you can use random.normalvariate(mean,\n",
    "# stdev) from the standard library. If the language you choose doesn’t have a built-in function for generating normally-\n",
    "# distributed random numbers, go ahead and copy any code you find online instead of writing the function yourself.\n",
    "# You have around one hour to work on this task – you should prioritise getting working code that generates winning\n",
    "# probabilities before starting work on the top 5 finish probabilities.\n",
    "# You will find the file containing the names and ratings of the twenty golfers to use in this exercise at: http://\n",
    "# pastebin.com/MxGnzjQP\n",
    "# 2\n"
   ]
  },
  {
   "cell_type": "code",
   "execution_count": 2,
   "metadata": {},
   "outputs": [],
   "source": [
    "import random"
   ]
  },
  {
   "cell_type": "code",
   "execution_count": 3,
   "metadata": {},
   "outputs": [],
   "source": [
    "# define golfer data\n",
    "golfer_data_raw = [\n",
    "    ('Sergio Garcia', 68.99802084636, 2.8022106094),\n",
    "    ('Tiger Woods', 69.35135041782, 2.7891506279),\n",
    "    ('Kenny Perry', 69.91471916678, 2.779164583),\n",
    "    ('Gonzalo Fernandez-Castano', 70.00454323213, 2.80730658184),\n",
    "    ('Rory McIlroy', 70.03914628487, 2.81525581752),\n",
    "    ('John Cook', 70.07314839476, 2.748840518),\n",
    "    ('Jaco Van Zyl', 70.08926215876, 2.78426082931),\n",
    "    ('Brandt Snedeker', 70.17987728156, 2.77189131799),\n",
    "    ('Francesco Molinari', 70.21681358363, 2.74834473201),\n",
    "    ('Matteo Manassero', 70.22010792006, 2.77346484857),\n",
    "    ('Rocco Mediate', 70.24975090651, 2.78827651594),\n",
    "    ('Phil Mickelson', 70.2831986625, 2.77942880401),\n",
    "    ('Justin Rose', 70.28785317825, 2.75785755538),\n",
    "    ('Jim Furyk', 70.29979751876, 2.74303206415),\n",
    "    ('Luke Donald', 70.31075778923, 2.75356932454),\n",
    "    ('South Africa', 70.32676162032, 2.752106981),\n",
    "    ('Charl Schwartzel', 70.39461420897, 2.78476477706),\n",
    "    ('Duffy Waldorf', 70.40624211864, 2.75608325682),\n",
    "    ('Darren Fichardt', 70.42869494626, 2.7804524764),\n",
    "    ('Jay Haas', 70.44274917206, 2.712519019)\n",
    "]"
   ]
  },
  {
   "cell_type": "code",
   "execution_count": 4,
   "metadata": {},
   "outputs": [],
   "source": [
    "golfer_names = [golfer[0] for golfer in golfer_data_raw]"
   ]
  },
  {
   "cell_type": "code",
   "execution_count": 21,
   "metadata": {},
   "outputs": [],
   "source": [
    "# name, mean, stdev\n",
    "# define golfer_data dict\n",
    "\n",
    "def simulate_round():\n",
    "    round_scores = {}\n",
    "    for golfer_name, mean, stdev in golfer_data_raw:\n",
    "        # sample from normal variate then round\n",
    "        round_scores[golfer_name] = round(random.normalvariate(mean, stdev))\n",
    "    return round_scores"
   ]
  },
  {
   "cell_type": "code",
   "execution_count": 22,
   "metadata": {},
   "outputs": [],
   "source": [
    "def simulate_tournament():\n",
    "    # simulate 4 rounds\n",
    "    tournament_scores = {}\n",
    "    for i in range(4):\n",
    "        round_scores = simulate_round()\n",
    "        for golfer_name, score in round_scores.items():\n",
    "            tournament_scores[golfer_name] = tournament_scores.get(golfer_name, 0) + score\n",
    "    return tournament_scores\n"
   ]
  },
  {
   "cell_type": "code",
   "execution_count": 23,
   "metadata": {},
   "outputs": [
    {
     "name": "stdout",
     "output_type": "stream",
     "text": [
      "[('Tiger Woods', 265), ('Kenny Perry', 274), ('Rory McIlroy', 274), ('John Cook', 275), ('Sergio Garcia', 277), ('Jay Haas', 277), ('Luke Donald', 278), ('Jaco Van Zyl', 279), ('Francesco Molinari', 279), ('Jim Furyk', 281), ('Darren Fichardt', 281), ('Brandt Snedeker', 282), ('Matteo Manassero', 282), ('Charl Schwartzel', 282), ('Phil Mickelson', 283), ('South Africa', 283), ('Gonzalo Fernandez-Castano', 284), ('Rocco Mediate', 285), ('Justin Rose', 285), ('Duffy Waldorf', 287)]\n"
     ]
    }
   ],
   "source": [
    "# sort by score\n",
    "tournament_scores = simulate_tournament()\n",
    "sorted_scores = sorted(tournament_scores.items(), key=lambda x: x[1])\n",
    "print(sorted_scores)"
   ]
  },
  {
   "cell_type": "code",
   "execution_count": 24,
   "metadata": {},
   "outputs": [
    {
     "name": "stdout",
     "output_type": "stream",
     "text": [
      "[265, 274, 274, 275, 277, 277, 278]\n"
     ]
    }
   ],
   "source": [
    "# print top 10 scores, just the score\n",
    "print([score for name, score in sorted_scores[:7]])"
   ]
  },
  {
   "cell_type": "code",
   "execution_count": 28,
   "metadata": {},
   "outputs": [],
   "source": [
    "# calulate top 5 fraction\n",
    "\n",
    "# get just scores of top 5\n",
    "top_5_scores = [score for name, score in sorted_scores[:5]]"
   ]
  },
  {
   "cell_type": "code",
   "execution_count": 30,
   "metadata": {},
   "outputs": [
    {
     "data": {
      "text/plain": [
       "{'Sergio Garcia': 277,\n",
       " 'Tiger Woods': 265,\n",
       " 'Kenny Perry': 274,\n",
       " 'Gonzalo Fernandez-Castano': 284,\n",
       " 'Rory McIlroy': 274,\n",
       " 'John Cook': 275,\n",
       " 'Jaco Van Zyl': 279,\n",
       " 'Brandt Snedeker': 282,\n",
       " 'Francesco Molinari': 279,\n",
       " 'Matteo Manassero': 282,\n",
       " 'Rocco Mediate': 285,\n",
       " 'Phil Mickelson': 283,\n",
       " 'Justin Rose': 285,\n",
       " 'Jim Furyk': 281,\n",
       " 'Luke Donald': 278,\n",
       " 'South Africa': 283,\n",
       " 'Charl Schwartzel': 282,\n",
       " 'Duffy Waldorf': 287,\n",
       " 'Darren Fichardt': 281,\n",
       " 'Jay Haas': 277}"
      ]
     },
     "execution_count": 30,
     "metadata": {},
     "output_type": "execute_result"
    }
   ],
   "source": [
    "tournament_scores"
   ]
  },
  {
   "cell_type": "code",
   "execution_count": 29,
   "metadata": {},
   "outputs": [
    {
     "data": {
      "text/plain": [
       "[265, 274, 274, 275, 277]"
      ]
     },
     "execution_count": 29,
     "metadata": {},
     "output_type": "execute_result"
    }
   ],
   "source": [
    "top_5_scores"
   ]
  },
  {
   "cell_type": "code",
   "execution_count": 36,
   "metadata": {},
   "outputs": [],
   "source": [
    "# sorted list of set of top 5 scores\n",
    "scores_to_consider = sorted(list(set(top_5_scores)))"
   ]
  },
  {
   "cell_type": "code",
   "execution_count": 37,
   "metadata": {},
   "outputs": [
    {
     "data": {
      "text/plain": [
       "[265, 274, 275, 277]"
      ]
     },
     "execution_count": 37,
     "metadata": {},
     "output_type": "execute_result"
    }
   ],
   "source": [
    "scores_to_consider"
   ]
  },
  {
   "cell_type": "code",
   "execution_count": 38,
   "metadata": {},
   "outputs": [
    {
     "name": "stdout",
     "output_type": "stream",
     "text": [
      "265\n",
      "['Tiger Woods']\n",
      "274\n",
      "['Kenny Perry', 'Rory McIlroy']\n",
      "275\n",
      "['John Cook']\n",
      "277\n",
      "['Sergio Garcia', 'Jay Haas']\n"
     ]
    }
   ],
   "source": [
    "# now we need to consider everyone with these scores\n",
    "\n",
    "top_5_fraction = {}\n",
    "point_to_distribute = 5\n",
    "for good_score in scores_to_consider:\n",
    "    print(good_score)\n",
    "    players_with_score = [name for name, score in tournament_scores.items() if score == good_score]\n",
    "    number_of_players_with_score = len(players_with_score)\n",
    "    print(players_with_score)\n",
    "    # each players gets min(1, point_to_distribute / number_of_players_with_score)\n",
    "    player_points = min(1, point_to_distribute / number_of_players_with_score)\n",
    "    for player in players_with_score:\n",
    "        top_5_fraction[player] = player_points\n",
    "    point_to_distribute -= player_points * number_of_players_with_score\n",
    "    if point_to_distribute <= 0:\n",
    "        break"
   ]
  },
  {
   "cell_type": "code",
   "execution_count": 39,
   "metadata": {},
   "outputs": [
    {
     "data": {
      "text/plain": [
       "{'Tiger Woods': 1,\n",
       " 'Kenny Perry': 1,\n",
       " 'Rory McIlroy': 1,\n",
       " 'John Cook': 1,\n",
       " 'Sergio Garcia': 0.5,\n",
       " 'Jay Haas': 0.5}"
      ]
     },
     "execution_count": 39,
     "metadata": {},
     "output_type": "execute_result"
    }
   ],
   "source": [
    "top_5_fraction"
   ]
  },
  {
   "cell_type": "code",
   "execution_count": 40,
   "metadata": {},
   "outputs": [],
   "source": [
    "# looks good"
   ]
  },
  {
   "cell_type": "code",
   "execution_count": 41,
   "metadata": {},
   "outputs": [
    {
     "data": {
      "text/plain": [
       "{'Tiger Woods': 1.0}"
      ]
     },
     "execution_count": 41,
     "metadata": {},
     "output_type": "execute_result"
    }
   ],
   "source": [
    "# for win fraction, just need to look at the winning score\n",
    "win_fraction = {}\n",
    "winning_score = sorted_scores[0][1]\n",
    "winners = [name for name, score in tournament_scores.items() if score == winning_score]\n",
    "for winner in winners:\n",
    "    win_fraction[winner] = 1 / len(winners)\n",
    "\n",
    "win_fraction"
   ]
  },
  {
   "cell_type": "code",
   "execution_count": null,
   "metadata": {},
   "outputs": [],
   "source": []
  },
  {
   "cell_type": "code",
   "execution_count": 42,
   "metadata": {},
   "outputs": [],
   "source": [
    "# function to simulate tournament and return win fraction and top 5 fraction\n",
    "\n",
    "def simulate_fractions():\n",
    "    tournament_scores = simulate_tournament()\n",
    "    sorted_scores = sorted(tournament_scores.items(), key=lambda x: x[1])\n",
    "    top_5_scores = [score for name, score in sorted_scores[:5]]\n",
    "    scores_to_consider = sorted(list(set(top_5_scores)))\n",
    "    top_5_fraction = {}\n",
    "    point_to_distribute = 5\n",
    "    for good_score in scores_to_consider:\n",
    "        players_with_score = [name for name, score in tournament_scores.items() if score == good_score]\n",
    "        number_of_players_with_score = len(players_with_score)\n",
    "        player_points = min(1, point_to_distribute / number_of_players_with_score)\n",
    "        for player in players_with_score:\n",
    "            top_5_fraction[player] = player_points\n",
    "        point_to_distribute -= player_points * number_of_players_with_score\n",
    "        if point_to_distribute <= 0:\n",
    "            break\n",
    "    winning_score = sorted_scores[0][1]\n",
    "    winners = [name for name, score in tournament_scores.items() if score == winning_score]\n",
    "    win_fraction = {}\n",
    "    for winner in winners:\n",
    "        win_fraction[winner] = 1 / len(winners)\n",
    "    return win_fraction, top_5_fraction"
   ]
  },
  {
   "cell_type": "code",
   "execution_count": 43,
   "metadata": {},
   "outputs": [],
   "source": [
    "win, top_5 = simulate_fractions()"
   ]
  },
  {
   "cell_type": "code",
   "execution_count": 44,
   "metadata": {},
   "outputs": [
    {
     "data": {
      "text/plain": [
       "{'Tiger Woods': 1.0}"
      ]
     },
     "execution_count": 44,
     "metadata": {},
     "output_type": "execute_result"
    }
   ],
   "source": [
    "win"
   ]
  },
  {
   "cell_type": "code",
   "execution_count": 45,
   "metadata": {},
   "outputs": [
    {
     "data": {
      "text/plain": [
       "{'Tiger Woods': 1,\n",
       " 'John Cook': 1,\n",
       " 'Jay Haas': 1,\n",
       " 'Brandt Snedeker': 0.6666666666666666,\n",
       " 'Justin Rose': 0.6666666666666666,\n",
       " 'South Africa': 0.6666666666666666}"
      ]
     },
     "execution_count": 45,
     "metadata": {},
     "output_type": "execute_result"
    }
   ],
   "source": [
    "top_5"
   ]
  },
  {
   "cell_type": "code",
   "execution_count": 46,
   "metadata": {},
   "outputs": [],
   "source": [
    "# looks good"
   ]
  },
  {
   "cell_type": "code",
   "execution_count": 47,
   "metadata": {},
   "outputs": [],
   "source": [
    "# simulate many tournaments\n",
    "\n",
    "n = 10000\n",
    "win_sum = {golfer_names: 0 for golfer_names in golfer_names}\n",
    "top_5_sum = {golfer_names: 0 for golfer_names in golfer_names}\n",
    "for i in range(n):\n",
    "    win_fraction, top_5_fraction = simulate_fractions()\n",
    "    for golfer, fraction in win_fraction.items():\n",
    "        win_sum[golfer] += fraction\n",
    "    for golfer, fraction in top_5_fraction.items():\n",
    "        top_5_sum[golfer] += fraction\n",
    "\n",
    "# average\n",
    "\n",
    "win_avg = {golfer: win_sum[golfer] / n for golfer in golfer_names}\n",
    "top_5_avg = {golfer: top_5_sum[golfer] / n for golfer in golfer_names}"
   ]
  },
  {
   "cell_type": "code",
   "execution_count": 49,
   "metadata": {},
   "outputs": [
    {
     "data": {
      "text/plain": [
       "[('Sergio Garcia', 0.18279833333333312),\n",
       " ('Tiger Woods', 0.11872333333333338),\n",
       " ('Kenny Perry', 0.064725),\n",
       " ('Gonzalo Fernandez-Castano', 0.055641666666666666),\n",
       " ('Rory McIlroy', 0.05039166666666665),\n",
       " ('Jaco Van Zyl', 0.04774333333333332),\n",
       " ('John Cook', 0.04323833333333332),\n",
       " ('Brandt Snedeker', 0.04193333333333333),\n",
       " ('Rocco Mediate', 0.04081166666666666),\n",
       " ('Matteo Manassero', 0.03775333333333332),\n",
       " ('Francesco Molinari', 0.036386666666666664),\n",
       " ('Phil Mickelson', 0.034144999999999995),\n",
       " ('Justin Rose', 0.033633333333333335),\n",
       " ('Luke Donald', 0.03341166666666666),\n",
       " ('South Africa', 0.03286499999999999),\n",
       " ('Jim Furyk', 0.031808333333333334),\n",
       " ('Charl Schwartzel', 0.03173666666666666),\n",
       " ('Duffy Waldorf', 0.030695),\n",
       " ('Darren Fichardt', 0.026391666666666674),\n",
       " ('Jay Haas', 0.025166666666666674)]"
      ]
     },
     "execution_count": 49,
     "metadata": {},
     "output_type": "execute_result"
    }
   ],
   "source": [
    "# sort by win avg\n",
    "sorted_win_avg = sorted(win_avg.items(), key=lambda x: x[1], reverse=True)\n",
    "sorted_win_avg"
   ]
  },
  {
   "cell_type": "code",
   "execution_count": 50,
   "metadata": {},
   "outputs": [
    {
     "data": {
      "text/plain": [
       "[('Sergio Garcia', 0.5521816666666663),\n",
       " ('Tiger Woods', 0.44213190476190467),\n",
       " ('Kenny Perry', 0.2981783333333332),\n",
       " ('Gonzalo Fernandez-Castano', 0.27114023809523785),\n",
       " ('Rory McIlroy', 0.2613619047619048),\n",
       " ('John Cook', 0.25051833333333345),\n",
       " ('Jaco Van Zyl', 0.24621499999999996),\n",
       " ('Brandt Snedeker', 0.24027000000000004),\n",
       " ('Matteo Manassero', 0.22707166666666675),\n",
       " ('Rocco Mediate', 0.22249357142857137),\n",
       " ('Francesco Molinari', 0.22009500000000012),\n",
       " ('Phil Mickelson', 0.21515666666666672),\n",
       " ('Justin Rose', 0.20991833333333348),\n",
       " ('Luke Donald', 0.20522500000000005),\n",
       " ('Jim Furyk', 0.20387833333333338),\n",
       " ('South Africa', 0.1976233333333333),\n",
       " ('Charl Schwartzel', 0.19642023809523804),\n",
       " ('Duffy Waldorf', 0.1864202380952381),\n",
       " ('Darren Fichardt', 0.18026833333333334),\n",
       " ('Jay Haas', 0.1734319047619048)]"
      ]
     },
     "execution_count": 50,
     "metadata": {},
     "output_type": "execute_result"
    }
   ],
   "source": [
    "# sort by top 5 avg\n",
    "sorted_top_5_avg = sorted(top_5_avg.items(), key=lambda x: x[1], reverse=True)\n",
    "sorted_top_5_avg"
   ]
  },
  {
   "cell_type": "code",
   "execution_count": 51,
   "metadata": {},
   "outputs": [],
   "source": [
    "import matplotlib.pyplot as plt"
   ]
  },
  {
   "cell_type": "code",
   "execution_count": 52,
   "metadata": {},
   "outputs": [
    {
     "data": {
      "image/png": "[encoded data removed]",
      "text/plain": [
       "<Figure size 640x480 with 1 Axes>"
      ]
     },
     "metadata": {},
     "output_type": "display_data"
    }
   ],
   "source": [
    "# plot win avg\n",
    "plt.bar(range(len(sorted_win_avg)), [x[1] for x in sorted_win_avg])\n",
    "plt.xticks(range(len(sorted_win_avg)), [x[0] for x in sorted_win_avg], rotation=90)\n",
    "plt.show()"
   ]
  },
  {
   "cell_type": "code",
   "execution_count": null,
   "metadata": {},
   "outputs": [],
   "source": []
  }
 ],
 "metadata": {
  "kernelspec": {
   "display_name": "nn2023env",
   "language": "python",
   "name": "python3"
  },
  "language_info": {
   "codemirror_mode": {
    "name": "ipython",
    "version": 3
   },
   "file_extension": ".py",
   "mimetype": "text/x-python",
   "name": "python",
   "nbconvert_exporter": "python",
   "pygments_lexer": "ipython3",
   "version": "3.8.10"
  },
  "orig_nbformat": 4,
  "vscode": {
   "interpreter": {
    "hash": "1f8cdeff43379bd7bc09de017ad683d69beea64a0eeeafe2c7deb93e69434c10"
   }
  }
 },
 "nbformat": 4,
 "nbformat_minor": 2
}
